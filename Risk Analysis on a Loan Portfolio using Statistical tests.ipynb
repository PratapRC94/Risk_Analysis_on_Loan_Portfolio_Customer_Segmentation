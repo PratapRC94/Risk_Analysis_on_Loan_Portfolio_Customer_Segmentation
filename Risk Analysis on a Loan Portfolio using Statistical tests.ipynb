{
 "cells": [
  {
   "cell_type": "markdown",
   "id": "75e804b3",
   "metadata": {},
   "source": [
    "Hi Pratap Roy! Thanks for working on this project for our team.\n",
    "\n",
    "As a data-driven finance company, we rely on data to make informed decisions that drive our day-to-day operations. However, we have noticed that some of our operational team members are relying on their own assumptions and interpretations of the data, leading to inaccurate decision-making. While some assumptions may prove to be accurate, we need to ensure that all our decisions are based on sound statistical analysis. To address this challenge, we need to evaluate a series of assumptions related to our operations based on factual data.\n",
    "\n",
    "As a data scientist in my team, you are assigned with evaluating these assumptions using hypothesis testing and statistical tests in Python and Jupyter Notebook and conclude whether a certain assumption is right or wrong, based on the given data. You will be provided with a dataset containing relevant variables for each assumption and will be expected to use the appropriate statistical methods to analyze the data and draw conclusions. Your goal will be to evaluate each assumption using appropriate statistical methods, draw conclusions based on the data, and present your findings to the management team. By completing this project, you will contribute to our goal of data-driven decision making."
   ]
  },
  {
   "cell_type": "markdown",
   "id": "3328b493",
   "metadata": {},
   "source": [
    "### Load the data and check the data quality"
   ]
  },
  {
   "cell_type": "code",
   "execution_count": 14,
   "id": "9b052299",
   "metadata": {},
   "outputs": [
    {
     "data": {
      "text/html": [
       "<div>\n",
       "<style scoped>\n",
       "    .dataframe tbody tr th:only-of-type {\n",
       "        vertical-align: middle;\n",
       "    }\n",
       "\n",
       "    .dataframe tbody tr th {\n",
       "        vertical-align: top;\n",
       "    }\n",
       "\n",
       "    .dataframe thead th {\n",
       "        text-align: right;\n",
       "    }\n",
       "</style>\n",
       "<table border=\"1\" class=\"dataframe\">\n",
       "  <thead>\n",
       "    <tr style=\"text-align: right;\">\n",
       "      <th></th>\n",
       "      <th>loan_id</th>\n",
       "      <th>principal_loan_amount</th>\n",
       "      <th>request_date</th>\n",
       "      <th>interest_rate</th>\n",
       "      <th>loan_channel</th>\n",
       "      <th>is_approved</th>\n",
       "      <th>is_default</th>\n",
       "      <th>customer_monthly_income</th>\n",
       "      <th>customer_age</th>\n",
       "      <th>customer_gender</th>\n",
       "      <th>customer_credit_score</th>\n",
       "      <th>customer_zip_code</th>\n",
       "    </tr>\n",
       "  </thead>\n",
       "  <tbody>\n",
       "    <tr>\n",
       "      <th>0</th>\n",
       "      <td>70280c1b-4339-4949-ba69-ad2a6cb6b782</td>\n",
       "      <td>8880</td>\n",
       "      <td>2023-03-06</td>\n",
       "      <td>9.0</td>\n",
       "      <td>WEB</td>\n",
       "      <td>True</td>\n",
       "      <td>NaN</td>\n",
       "      <td>6100</td>\n",
       "      <td>30</td>\n",
       "      <td>Male</td>\n",
       "      <td>3</td>\n",
       "      <td>10007</td>\n",
       "    </tr>\n",
       "    <tr>\n",
       "      <th>1</th>\n",
       "      <td>8a550559-9749-491b-b6aa-7188bc0a488f</td>\n",
       "      <td>13720</td>\n",
       "      <td>2023-05-10</td>\n",
       "      <td>10.0</td>\n",
       "      <td>MOBILE_APP</td>\n",
       "      <td>True</td>\n",
       "      <td>NaN</td>\n",
       "      <td>5150</td>\n",
       "      <td>39</td>\n",
       "      <td>Female</td>\n",
       "      <td>3</td>\n",
       "      <td>10004</td>\n",
       "    </tr>\n",
       "    <tr>\n",
       "      <th>2</th>\n",
       "      <td>5644d27e-e05e-4a40-bef3-64187892338f</td>\n",
       "      <td>2090</td>\n",
       "      <td>2023-02-16</td>\n",
       "      <td>7.5</td>\n",
       "      <td>AGENT</td>\n",
       "      <td>True</td>\n",
       "      <td>NaN</td>\n",
       "      <td>6030</td>\n",
       "      <td>43</td>\n",
       "      <td>Female</td>\n",
       "      <td>3</td>\n",
       "      <td>10003</td>\n",
       "    </tr>\n",
       "    <tr>\n",
       "      <th>3</th>\n",
       "      <td>9d8d17ac-8af9-4936-ba5d-8d5ed5e0cfab</td>\n",
       "      <td>6820</td>\n",
       "      <td>2023-02-26</td>\n",
       "      <td>8.5</td>\n",
       "      <td>MOBILE_APP</td>\n",
       "      <td>NaN</td>\n",
       "      <td>NaN</td>\n",
       "      <td>2150</td>\n",
       "      <td>54</td>\n",
       "      <td>Male</td>\n",
       "      <td>0</td>\n",
       "      <td>10004</td>\n",
       "    </tr>\n",
       "    <tr>\n",
       "      <th>4</th>\n",
       "      <td>4586ad7a-2231-419b-b8e3-ba03b929b56e</td>\n",
       "      <td>13770</td>\n",
       "      <td>2023-04-13</td>\n",
       "      <td>10.0</td>\n",
       "      <td>AFFILIATE</td>\n",
       "      <td>NaN</td>\n",
       "      <td>NaN</td>\n",
       "      <td>5810</td>\n",
       "      <td>28</td>\n",
       "      <td>Female</td>\n",
       "      <td>2</td>\n",
       "      <td>10007</td>\n",
       "    </tr>\n",
       "  </tbody>\n",
       "</table>\n",
       "</div>"
      ],
      "text/plain": [
       "                                loan_id  principal_loan_amount request_date  \\\n",
       "0  70280c1b-4339-4949-ba69-ad2a6cb6b782                   8880   2023-03-06   \n",
       "1  8a550559-9749-491b-b6aa-7188bc0a488f                  13720   2023-05-10   \n",
       "2  5644d27e-e05e-4a40-bef3-64187892338f                   2090   2023-02-16   \n",
       "3  9d8d17ac-8af9-4936-ba5d-8d5ed5e0cfab                   6820   2023-02-26   \n",
       "4  4586ad7a-2231-419b-b8e3-ba03b929b56e                  13770   2023-04-13   \n",
       "\n",
       "   interest_rate loan_channel is_approved is_default  customer_monthly_income  \\\n",
       "0            9.0          WEB        True        NaN                     6100   \n",
       "1           10.0   MOBILE_APP        True        NaN                     5150   \n",
       "2            7.5        AGENT        True        NaN                     6030   \n",
       "3            8.5   MOBILE_APP         NaN        NaN                     2150   \n",
       "4           10.0    AFFILIATE         NaN        NaN                     5810   \n",
       "\n",
       "   customer_age customer_gender  customer_credit_score  customer_zip_code  \n",
       "0            30            Male                      3              10007  \n",
       "1            39          Female                      3              10004  \n",
       "2            43          Female                      3              10003  \n",
       "3            54            Male                      0              10004  \n",
       "4            28          Female                      2              10007  "
      ]
     },
     "execution_count": 14,
     "metadata": {},
     "output_type": "execute_result"
    }
   ],
   "source": [
    "import pandas as pd\n",
    " \n",
    "df = pd.read_csv('loan-dataset-1.csv')\n",
    " \n",
    "df.head()"
   ]
  },
  {
   "cell_type": "code",
   "execution_count": 15,
   "id": "53cf3d6f",
   "metadata": {},
   "outputs": [
    {
     "data": {
      "text/plain": [
       "(15163, 12)"
      ]
     },
     "execution_count": 15,
     "metadata": {},
     "output_type": "execute_result"
    }
   ],
   "source": [
    "df.shape"
   ]
  },
  {
   "cell_type": "code",
   "execution_count": 16,
   "id": "845fd025",
   "metadata": {},
   "outputs": [
    {
     "data": {
      "text/plain": [
       "True"
      ]
     },
     "execution_count": 16,
     "metadata": {},
     "output_type": "execute_result"
    }
   ],
   "source": [
    "df.duplicated().any()"
   ]
  },
  {
   "cell_type": "code",
   "execution_count": 29,
   "id": "21d2fcf5",
   "metadata": {},
   "outputs": [
    {
     "data": {
      "text/plain": [
       "loan_id                    0\n",
       "principal_loan_amount      0\n",
       "request_date               0\n",
       "interest_rate              0\n",
       "loan_channel               0\n",
       "is_approved                0\n",
       "is_default                 0\n",
       "customer_monthly_income    0\n",
       "customer_age               0\n",
       "customer_gender            0\n",
       "customer_credit_score      0\n",
       "customer_zip_code          0\n",
       "dtype: int64"
      ]
     },
     "execution_count": 29,
     "metadata": {},
     "output_type": "execute_result"
    }
   ],
   "source": [
    "df.isnull().sum()"
   ]
  },
  {
   "cell_type": "code",
   "execution_count": 18,
   "id": "054628ff",
   "metadata": {},
   "outputs": [
    {
     "name": "stdout",
     "output_type": "stream",
     "text": [
      "is_approved    True\n",
      "is_default     True\n",
      "dtype: bool \n",
      "\n"
     ]
    }
   ],
   "source": [
    " print(df.isna().any(axis=0)[df.isna().any()], '\\n')"
   ]
  },
  {
   "cell_type": "code",
   "execution_count": 19,
   "id": "dcf332a2",
   "metadata": {},
   "outputs": [
    {
     "name": "stdout",
     "output_type": "stream",
     "text": [
      "principal_loan_amount: 1000 to 15000\n",
      "request_date: 2023-01-01 to 2023-06-29\n",
      "interest_rate: 7.5 to 10.0\n",
      "loan_channel: ['WEB' 'MOBILE_APP' 'AGENT' 'AFFILIATE' 'DIRECT_SELLING'\n",
      " 'website_revamped' 'ANDROID_V2' 'ANDROID_V3' 'apple_new_v3']\n",
      "is_approved: [True nan]\n",
      "is_default: [nan True]\n",
      "customer_monthly_income: 2000 to 6500\n",
      "customer_age: 22 to 60\n",
      "customer_gender: ['Male' 'Female' 'M' 'F']\n"
     ]
    }
   ],
   "source": [
    "print('principal_loan_amount:', df['principal_loan_amount'].min(), 'to', df['principal_loan_amount'].max())\n",
    "print('request_date:', df['request_date'].min(), 'to', df['request_date'].max())\n",
    "print('interest_rate:', df['interest_rate'].min(), 'to', df['interest_rate'].max())\n",
    "print('loan_channel:', df['loan_channel'].unique())\n",
    "print('is_approved:', df['is_approved'].unique())\n",
    "print('is_default:', df['is_default'].unique())\n",
    "print('customer_monthly_income:', df['customer_monthly_income'].min(), 'to', df['customer_monthly_income'].max())\n",
    "print('customer_age:', df['customer_age'].min(), 'to', df['customer_age'].max())\n",
    "print('customer_gender:', df['customer_gender'].unique())"
   ]
  },
  {
   "cell_type": "markdown",
   "id": "64b413d8",
   "metadata": {},
   "source": [
    "### Data Cleaning"
   ]
  },
  {
   "cell_type": "code",
   "execution_count": 20,
   "id": "ce7e96ca",
   "metadata": {},
   "outputs": [
    {
     "data": {
      "text/html": [
       "<div>\n",
       "<style scoped>\n",
       "    .dataframe tbody tr th:only-of-type {\n",
       "        vertical-align: middle;\n",
       "    }\n",
       "\n",
       "    .dataframe tbody tr th {\n",
       "        vertical-align: top;\n",
       "    }\n",
       "\n",
       "    .dataframe thead th {\n",
       "        text-align: right;\n",
       "    }\n",
       "</style>\n",
       "<table border=\"1\" class=\"dataframe\">\n",
       "  <thead>\n",
       "    <tr style=\"text-align: right;\">\n",
       "      <th></th>\n",
       "      <th>loan_id</th>\n",
       "      <th>principal_loan_amount</th>\n",
       "      <th>request_date</th>\n",
       "      <th>interest_rate</th>\n",
       "      <th>loan_channel</th>\n",
       "      <th>is_approved</th>\n",
       "      <th>is_default</th>\n",
       "      <th>customer_monthly_income</th>\n",
       "      <th>customer_age</th>\n",
       "      <th>customer_gender</th>\n",
       "      <th>customer_credit_score</th>\n",
       "      <th>customer_zip_code</th>\n",
       "    </tr>\n",
       "  </thead>\n",
       "  <tbody>\n",
       "    <tr>\n",
       "      <th>166</th>\n",
       "      <td>5fb226e9-d3d7-4f63-9c6a-6b842584b860</td>\n",
       "      <td>10750</td>\n",
       "      <td>2023-04-16</td>\n",
       "      <td>9.5</td>\n",
       "      <td>MOBILE_APP</td>\n",
       "      <td>True</td>\n",
       "      <td>NaN</td>\n",
       "      <td>2480</td>\n",
       "      <td>44</td>\n",
       "      <td>Male</td>\n",
       "      <td>3</td>\n",
       "      <td>10004</td>\n",
       "    </tr>\n",
       "    <tr>\n",
       "      <th>167</th>\n",
       "      <td>5fb226e9-d3d7-4f63-9c6a-6b842584b860</td>\n",
       "      <td>10750</td>\n",
       "      <td>2023-04-16</td>\n",
       "      <td>9.5</td>\n",
       "      <td>MOBILE_APP</td>\n",
       "      <td>True</td>\n",
       "      <td>NaN</td>\n",
       "      <td>2480</td>\n",
       "      <td>44</td>\n",
       "      <td>Male</td>\n",
       "      <td>3</td>\n",
       "      <td>10004</td>\n",
       "    </tr>\n",
       "    <tr>\n",
       "      <th>196</th>\n",
       "      <td>e5ce6885-92d7-4e57-9f1e-8e3bf31c935a</td>\n",
       "      <td>6790</td>\n",
       "      <td>2023-04-15</td>\n",
       "      <td>8.5</td>\n",
       "      <td>AFFILIATE</td>\n",
       "      <td>True</td>\n",
       "      <td>NaN</td>\n",
       "      <td>4520</td>\n",
       "      <td>42</td>\n",
       "      <td>Female</td>\n",
       "      <td>3</td>\n",
       "      <td>10006</td>\n",
       "    </tr>\n",
       "    <tr>\n",
       "      <th>197</th>\n",
       "      <td>e5ce6885-92d7-4e57-9f1e-8e3bf31c935a</td>\n",
       "      <td>6790</td>\n",
       "      <td>2023-04-15</td>\n",
       "      <td>8.5</td>\n",
       "      <td>AFFILIATE</td>\n",
       "      <td>True</td>\n",
       "      <td>NaN</td>\n",
       "      <td>4520</td>\n",
       "      <td>42</td>\n",
       "      <td>Female</td>\n",
       "      <td>3</td>\n",
       "      <td>10006</td>\n",
       "    </tr>\n",
       "    <tr>\n",
       "      <th>330</th>\n",
       "      <td>ca4a6603-0bd2-4ee9-8f60-54061d75b3a1</td>\n",
       "      <td>11420</td>\n",
       "      <td>2023-04-16</td>\n",
       "      <td>9.5</td>\n",
       "      <td>WEB</td>\n",
       "      <td>True</td>\n",
       "      <td>True</td>\n",
       "      <td>4780</td>\n",
       "      <td>52</td>\n",
       "      <td>Female</td>\n",
       "      <td>3</td>\n",
       "      <td>10003</td>\n",
       "    </tr>\n",
       "    <tr>\n",
       "      <th>...</th>\n",
       "      <td>...</td>\n",
       "      <td>...</td>\n",
       "      <td>...</td>\n",
       "      <td>...</td>\n",
       "      <td>...</td>\n",
       "      <td>...</td>\n",
       "      <td>...</td>\n",
       "      <td>...</td>\n",
       "      <td>...</td>\n",
       "      <td>...</td>\n",
       "      <td>...</td>\n",
       "      <td>...</td>\n",
       "    </tr>\n",
       "    <tr>\n",
       "      <th>14897</th>\n",
       "      <td>84c0e3dc-071e-4d44-bee1-c8c7cc713577</td>\n",
       "      <td>7520</td>\n",
       "      <td>2023-04-15</td>\n",
       "      <td>9.0</td>\n",
       "      <td>AFFILIATE</td>\n",
       "      <td>True</td>\n",
       "      <td>NaN</td>\n",
       "      <td>4650</td>\n",
       "      <td>54</td>\n",
       "      <td>Male</td>\n",
       "      <td>3</td>\n",
       "      <td>10005</td>\n",
       "    </tr>\n",
       "    <tr>\n",
       "      <th>15000</th>\n",
       "      <td>6be039f6-562d-4149-937b-470e6d7549a5</td>\n",
       "      <td>10920</td>\n",
       "      <td>2023-04-15</td>\n",
       "      <td>9.5</td>\n",
       "      <td>AFFILIATE</td>\n",
       "      <td>NaN</td>\n",
       "      <td>NaN</td>\n",
       "      <td>2300</td>\n",
       "      <td>26</td>\n",
       "      <td>Male</td>\n",
       "      <td>3</td>\n",
       "      <td>10004</td>\n",
       "    </tr>\n",
       "    <tr>\n",
       "      <th>15001</th>\n",
       "      <td>6be039f6-562d-4149-937b-470e6d7549a5</td>\n",
       "      <td>10920</td>\n",
       "      <td>2023-04-15</td>\n",
       "      <td>9.5</td>\n",
       "      <td>AFFILIATE</td>\n",
       "      <td>NaN</td>\n",
       "      <td>NaN</td>\n",
       "      <td>2300</td>\n",
       "      <td>26</td>\n",
       "      <td>Male</td>\n",
       "      <td>3</td>\n",
       "      <td>10004</td>\n",
       "    </tr>\n",
       "    <tr>\n",
       "      <th>15077</th>\n",
       "      <td>688ceb23-8cba-4c37-bc3d-f1789a36ab93</td>\n",
       "      <td>10160</td>\n",
       "      <td>2023-04-15</td>\n",
       "      <td>9.5</td>\n",
       "      <td>AGENT</td>\n",
       "      <td>True</td>\n",
       "      <td>NaN</td>\n",
       "      <td>5930</td>\n",
       "      <td>43</td>\n",
       "      <td>Male</td>\n",
       "      <td>3</td>\n",
       "      <td>10006</td>\n",
       "    </tr>\n",
       "    <tr>\n",
       "      <th>15078</th>\n",
       "      <td>688ceb23-8cba-4c37-bc3d-f1789a36ab93</td>\n",
       "      <td>10160</td>\n",
       "      <td>2023-04-15</td>\n",
       "      <td>9.5</td>\n",
       "      <td>AGENT</td>\n",
       "      <td>True</td>\n",
       "      <td>NaN</td>\n",
       "      <td>5930</td>\n",
       "      <td>43</td>\n",
       "      <td>Male</td>\n",
       "      <td>3</td>\n",
       "      <td>10006</td>\n",
       "    </tr>\n",
       "  </tbody>\n",
       "</table>\n",
       "<p>326 rows × 12 columns</p>\n",
       "</div>"
      ],
      "text/plain": [
       "                                    loan_id  principal_loan_amount  \\\n",
       "166    5fb226e9-d3d7-4f63-9c6a-6b842584b860                  10750   \n",
       "167    5fb226e9-d3d7-4f63-9c6a-6b842584b860                  10750   \n",
       "196    e5ce6885-92d7-4e57-9f1e-8e3bf31c935a                   6790   \n",
       "197    e5ce6885-92d7-4e57-9f1e-8e3bf31c935a                   6790   \n",
       "330    ca4a6603-0bd2-4ee9-8f60-54061d75b3a1                  11420   \n",
       "...                                     ...                    ...   \n",
       "14897  84c0e3dc-071e-4d44-bee1-c8c7cc713577                   7520   \n",
       "15000  6be039f6-562d-4149-937b-470e6d7549a5                  10920   \n",
       "15001  6be039f6-562d-4149-937b-470e6d7549a5                  10920   \n",
       "15077  688ceb23-8cba-4c37-bc3d-f1789a36ab93                  10160   \n",
       "15078  688ceb23-8cba-4c37-bc3d-f1789a36ab93                  10160   \n",
       "\n",
       "      request_date  interest_rate loan_channel is_approved is_default  \\\n",
       "166     2023-04-16            9.5   MOBILE_APP        True        NaN   \n",
       "167     2023-04-16            9.5   MOBILE_APP        True        NaN   \n",
       "196     2023-04-15            8.5    AFFILIATE        True        NaN   \n",
       "197     2023-04-15            8.5    AFFILIATE        True        NaN   \n",
       "330     2023-04-16            9.5          WEB        True       True   \n",
       "...            ...            ...          ...         ...        ...   \n",
       "14897   2023-04-15            9.0    AFFILIATE        True        NaN   \n",
       "15000   2023-04-15            9.5    AFFILIATE         NaN        NaN   \n",
       "15001   2023-04-15            9.5    AFFILIATE         NaN        NaN   \n",
       "15077   2023-04-15            9.5        AGENT        True        NaN   \n",
       "15078   2023-04-15            9.5        AGENT        True        NaN   \n",
       "\n",
       "       customer_monthly_income  customer_age customer_gender  \\\n",
       "166                       2480            44            Male   \n",
       "167                       2480            44            Male   \n",
       "196                       4520            42          Female   \n",
       "197                       4520            42          Female   \n",
       "330                       4780            52          Female   \n",
       "...                        ...           ...             ...   \n",
       "14897                     4650            54            Male   \n",
       "15000                     2300            26            Male   \n",
       "15001                     2300            26            Male   \n",
       "15077                     5930            43            Male   \n",
       "15078                     5930            43            Male   \n",
       "\n",
       "       customer_credit_score  customer_zip_code  \n",
       "166                        3              10004  \n",
       "167                        3              10004  \n",
       "196                        3              10006  \n",
       "197                        3              10006  \n",
       "330                        3              10003  \n",
       "...                      ...                ...  \n",
       "14897                      3              10005  \n",
       "15000                      3              10004  \n",
       "15001                      3              10004  \n",
       "15077                      3              10006  \n",
       "15078                      3              10006  \n",
       "\n",
       "[326 rows x 12 columns]"
      ]
     },
     "execution_count": 20,
     "metadata": {},
     "output_type": "execute_result"
    }
   ],
   "source": [
    "df[df.duplicated(keep = False)]"
   ]
  },
  {
   "cell_type": "code",
   "execution_count": 21,
   "id": "eaa6e389",
   "metadata": {},
   "outputs": [
    {
     "data": {
      "text/plain": [
       "(15000, 12)"
      ]
     },
     "execution_count": 21,
     "metadata": {},
     "output_type": "execute_result"
    }
   ],
   "source": [
    "df = df.drop_duplicates()\n",
    "df.shape"
   ]
  },
  {
   "cell_type": "code",
   "execution_count": 22,
   "id": "66d92e39",
   "metadata": {},
   "outputs": [],
   "source": [
    "df['is_approved'].fillna(False, inplace= True)\n",
    "df['is_default'].fillna(False, inplace = True)"
   ]
  },
  {
   "cell_type": "code",
   "execution_count": 23,
   "id": "f9126c05",
   "metadata": {},
   "outputs": [
    {
     "data": {
      "text/plain": [
       "array(['WEB', 'MOBILE_APP', 'AGENT', 'AFFILIATE', 'DIRECT_SELLING'],\n",
       "      dtype=object)"
      ]
     },
     "execution_count": 23,
     "metadata": {},
     "output_type": "execute_result"
    }
   ],
   "source": [
    "mapping_loan_chanel = {\n",
    "    'WEBSITE_REVAMPED': 'WEB',\n",
    "    'ANDROID_V2': 'MOBILE_APP',\n",
    "    'ANDROID_V3': 'MOBILE_APP',\n",
    "    'APPLE_NEW_V3': 'MOBILE_APP'\n",
    "}\n",
    "\n",
    "df['loan_channel'] = df['loan_channel'].str.upper().replace(mapping_loan_chanel)\n",
    "df['loan_channel'].unique()"
   ]
  },
  {
   "cell_type": "code",
   "execution_count": 33,
   "id": "d5662cb8",
   "metadata": {},
   "outputs": [
    {
     "data": {
      "text/plain": [
       "array(['M', 'F'], dtype=object)"
      ]
     },
     "execution_count": 33,
     "metadata": {},
     "output_type": "execute_result"
    }
   ],
   "source": [
    "df['customer_gender'] = df['customer_gender'].str.upper().replace(['MALE','FEMALE'],['M','F'])\n",
    "df['customer_gender'].unique()"
   ]
  },
  {
   "cell_type": "code",
   "execution_count": 35,
   "id": "e7e38a6f",
   "metadata": {},
   "outputs": [],
   "source": [
    "df.to_csv('loan-dataset-1-clean.csv', index = False)"
   ]
  },
  {
   "cell_type": "markdown",
   "id": "1d16ea57",
   "metadata": {},
   "source": [
    "### Evaluate the impact of Interest Rates on Loan Default Rates\n",
    "\n",
    "Null hypothesis (from the operations team) : the interest rate has no impact on the loan default rate\n",
    "\n",
    "Alternative hypothesis : interest rate does have an impact on the loan default rate.\n",
    "\n",
    "Use the two-tailed t-test to evaluate the impact of interest rates on loan default rates. Split the data into two groups based on the interest rate levels, then compare the mean default rates between the two groups to analyze the hypothesis.\n",
    "\n"
   ]
  },
  {
   "cell_type": "code",
   "execution_count": 37,
   "id": "47ecf75c",
   "metadata": {},
   "outputs": [
    {
     "data": {
      "text/plain": [
       "count    15000.000000\n",
       "mean         8.853000\n",
       "std          0.814781\n",
       "min          7.500000\n",
       "25%          8.000000\n",
       "50%          9.000000\n",
       "75%          9.500000\n",
       "max         10.000000\n",
       "Name: interest_rate, dtype: float64"
      ]
     },
     "execution_count": 37,
     "metadata": {},
     "output_type": "execute_result"
    }
   ],
   "source": [
    "df['interest_rate'].describe()"
   ]
  },
  {
   "cell_type": "code",
   "execution_count": 38,
   "id": "779b0459",
   "metadata": {},
   "outputs": [],
   "source": [
    "import scipy.stats as stats"
   ]
  },
  {
   "cell_type": "code",
   "execution_count": 39,
   "id": "522fc43d",
   "metadata": {},
   "outputs": [
    {
     "data": {
      "text/plain": [
       "9.0"
      ]
     },
     "execution_count": 39,
     "metadata": {},
     "output_type": "execute_result"
    }
   ],
   "source": [
    "median_interest = df['interest_rate'].median()\n",
    "median_interest"
   ]
  },
  {
   "cell_type": "code",
   "execution_count": 40,
   "id": "04e9be68",
   "metadata": {},
   "outputs": [],
   "source": [
    "high_int = df[df['interest_rate'] > median_interest]\n",
    "low_int = df[df['interest_rate'] <= median_interest]"
   ]
  },
  {
   "cell_type": "code",
   "execution_count": 51,
   "id": "29b62ba4",
   "metadata": {},
   "outputs": [],
   "source": [
    "# The hypothesis is about the relationship between interest rate and default rate. \n",
    "# Calculate the default rate's average (mean) for both interest rate groups.\n",
    "high_default_rate = high_int['is_default'].mean()\n",
    "low_default_rate = low_int['is_default'].mean()"
   ]
  },
  {
   "cell_type": "markdown",
   "id": "d4984844",
   "metadata": {},
   "source": [
    "Use $stats.ttest_ind()$ function from $scipy.stats$ library to compare the default rate of loans with high interest rates versus the default rate of loans with low interest rates, based on $is_default$ column of the $high_interest$ and $low_interest$ dataframes.\n",
    "\n",
    "Assign output from $ttest_ind()$ function into:\n",
    "\n",
    "- t_stat (t-statistic to measure the difference between the means of the two groups divided by the standard error of the difference)\n",
    "\n",
    "- p_val (p-value to indicate how strong the evidence is against the null hypothesis)"
   ]
  },
  {
   "cell_type": "code",
   "execution_count": 54,
   "id": "11d4f692",
   "metadata": {},
   "outputs": [
    {
     "data": {
      "text/plain": [
       "(-1.1830953524322996, 0.23679011271197217)"
      ]
     },
     "execution_count": 54,
     "metadata": {},
     "output_type": "execute_result"
    }
   ],
   "source": [
    "t_stat, p_val = stats.ttest_ind(high_int['is_default'], low_int['is_default'])\n",
    "t_stat, p_val"
   ]
  },
  {
   "cell_type": "code",
   "execution_count": 55,
   "id": "1e379392",
   "metadata": {},
   "outputs": [
    {
     "name": "stdout",
     "output_type": "stream",
     "text": [
      "High interest rate default rate: 3.37%\n",
      "Low interest rate default rate: 3.74%\n",
      "Two-tailed t-test: t-statistic = -1.18, p-value = 0.24\n"
     ]
    }
   ],
   "source": [
    "print('High interest rate default rate: {:.2%}'.format(high_default_rate))\n",
    "print('Low interest rate default rate: {:.2%}'.format(low_default_rate))\n",
    "print('Two-tailed t-test: t-statistic = {:.2f}, p-value = {:.2f}'.format(t_stat, p_val))"
   ]
  },
  {
   "cell_type": "markdown",
   "id": "6d1c3ce6",
   "metadata": {},
   "source": [
    "The t-statistic is -1.18 meaning that the average (mean) default rate for loans with high interest rates is slightly lower than the mean default rate for loans with low interest rates.\n",
    "\n",
    "However, the p-value is 0.24, which is higher than the commonly used threshold of 0.05 for statistical significance.\n",
    "\n",
    "This means that the difference in default rates between the two groups may not be statistically significant. In other words, the interest rate has no significant impact on loan default rate.\n",
    "\n",
    "> > > Hence the null hypothesis (the interest rate has no impact on the loan default rate) is $True$"
   ]
  },
  {
   "cell_type": "markdown",
   "id": "aa7460e9",
   "metadata": {},
   "source": [
    "### Evaluate the relationship between Income Level and Loan Approval Rates\n",
    "\n",
    "Null hypothesis (from the operations team) : customer income level has no impact on the loan approval rate\n",
    "\n",
    "Alternative hypothesis : customer income level impacts the loan approval rate\n",
    "\n",
    "Use logistic regression analysis to evaluate the impact of customer income level on loan approval rates. The customer income levels are separated into these groups:\n",
    "\n",
    "- less than 2500\n",
    "\n",
    "- 2500 to 5000\n",
    "\n",
    "- 5000 to 7500\n",
    "\n",
    "- more than 7500"
   ]
  },
  {
   "cell_type": "code",
   "execution_count": 58,
   "id": "d63c2df0",
   "metadata": {},
   "outputs": [],
   "source": [
    "import numpy as np\n",
    "import statsmodels.api as sm"
   ]
  },
  {
   "cell_type": "code",
   "execution_count": 59,
   "id": "760640f8",
   "metadata": {},
   "outputs": [
    {
     "data": {
      "text/plain": [
       "customer_monthly_income\n",
       "(0.0, 2500.0]       0.781103\n",
       "(2500.0, 5000.0]    0.776105\n",
       "(5000.0, 7500.0]    0.775494\n",
       "(7500.0, inf]            NaN\n",
       "Name: is_approved, dtype: float64"
      ]
     },
     "execution_count": 59,
     "metadata": {},
     "output_type": "execute_result"
    }
   ],
   "source": [
    "income_groups = pd.cut(df['customer_monthly_income'], bins=[0, 2500, 5000, 7500, np.inf])\n",
    "approval_rate = df.groupby(income_groups)['is_approved'].mean()\n",
    "approval_rate"
   ]
  },
  {
   "cell_type": "code",
   "execution_count": 62,
   "id": "d9fdb33d",
   "metadata": {},
   "outputs": [
    {
     "data": {
      "text/html": [
       "<div>\n",
       "<style scoped>\n",
       "    .dataframe tbody tr th:only-of-type {\n",
       "        vertical-align: middle;\n",
       "    }\n",
       "\n",
       "    .dataframe tbody tr th {\n",
       "        vertical-align: top;\n",
       "    }\n",
       "\n",
       "    .dataframe thead th {\n",
       "        text-align: right;\n",
       "    }\n",
       "</style>\n",
       "<table border=\"1\" class=\"dataframe\">\n",
       "  <thead>\n",
       "    <tr style=\"text-align: right;\">\n",
       "      <th></th>\n",
       "      <th>loan_id</th>\n",
       "      <th>principal_loan_amount</th>\n",
       "      <th>request_date</th>\n",
       "      <th>interest_rate</th>\n",
       "      <th>loan_channel</th>\n",
       "      <th>is_approved</th>\n",
       "      <th>is_default</th>\n",
       "      <th>customer_monthly_income</th>\n",
       "      <th>customer_age</th>\n",
       "      <th>customer_gender</th>\n",
       "      <th>customer_credit_score</th>\n",
       "      <th>customer_zip_code</th>\n",
       "    </tr>\n",
       "  </thead>\n",
       "  <tbody>\n",
       "  </tbody>\n",
       "</table>\n",
       "</div>"
      ],
      "text/plain": [
       "Empty DataFrame\n",
       "Columns: [loan_id, principal_loan_amount, request_date, interest_rate, loan_channel, is_approved, is_default, customer_monthly_income, customer_age, customer_gender, customer_credit_score, customer_zip_code]\n",
       "Index: []"
      ]
     },
     "execution_count": 62,
     "metadata": {},
     "output_type": "execute_result"
    }
   ],
   "source": [
    "df[df['customer_monthly_income'] >= 7500]"
   ]
  },
  {
   "cell_type": "markdown",
   "id": "f48d14a9",
   "metadata": {},
   "source": [
    "- Use is_approved for dependent variable (variable to explain)\n",
    "\n",
    "- Use customer_monthly_income for independent variable (variable to explain the variation in the dependent variable)\n",
    "\n",
    "- Use Logit function to fit a logistic regression model to the data."
   ]
  },
  {
   "cell_type": "code",
   "execution_count": 63,
   "id": "5099623f",
   "metadata": {},
   "outputs": [
    {
     "name": "stdout",
     "output_type": "stream",
     "text": [
      "Optimization terminated successfully.\n",
      "         Current function value: 0.531339\n",
      "         Iterations 5\n",
      "                           Logit Regression Results                           \n",
      "==============================================================================\n",
      "Dep. Variable:            is_approved   No. Observations:                15000\n",
      "Model:                          Logit   Df Residuals:                    14998\n",
      "Method:                           MLE   Df Model:                            1\n",
      "Date:                Fri, 19 May 2023   Pseudo R-squ.:               8.514e-06\n",
      "Time:                        04:16:33   Log-Likelihood:                -7970.1\n",
      "converged:                       True   LL-Null:                       -7970.2\n",
      "Covariance Type:            nonrobust   LLR p-value:                    0.7126\n",
      "===========================================================================================\n",
      "                              coef    std err          z      P>|z|      [0.025      0.975]\n",
      "-------------------------------------------------------------------------------------------\n",
      "const                       1.2688      0.067     18.948      0.000       1.138       1.400\n",
      "customer_monthly_income -5.539e-06    1.5e-05     -0.368      0.713    -3.5e-05    2.39e-05\n",
      "===========================================================================================\n"
     ]
    }
   ],
   "source": [
    "X = sm.add_constant(df['customer_monthly_income'])\n",
    "y = df['is_approved']\n",
    "model = sm.Logit(y, X).fit()\n",
    "print(model.summary())"
   ]
  },
  {
   "cell_type": "markdown",
   "id": "83ca5efd",
   "metadata": {},
   "source": [
    "The coefficient for the customer_monthly_income is -5.539e-06, which means that one-unit increase in the customer_monthly_income results in a -5.539e-06 unit decrease in the log odds of loan approval (is_approved).\n",
    "\n",
    "The p-value for this coefficient is 0.713, which is greater than the significance level of 0.05. Therefore, we fail to reject the null hypothesis that there is no linear relationship between income level and loan approval rates."
   ]
  },
  {
   "cell_type": "markdown",
   "id": "e58ce596",
   "metadata": {},
   "source": [
    "### Find variables that affect loan default rate\n",
    "\n",
    "Since interest rate does not impact the default rate, you need to find out possible variable(s) that affect loan default rate.\n",
    "\n",
    "The risk team suggested the following variable possibilities:\n",
    "\n",
    "- customer_monthly_income\n",
    "\n",
    "- customer_zip_code\n",
    "\n",
    "You need to use regression test against data to find out whether the risk team's suggestion is correct."
   ]
  },
  {
   "cell_type": "code",
   "execution_count": 64,
   "id": "1c3d01ed",
   "metadata": {},
   "outputs": [
    {
     "name": "stdout",
     "output_type": "stream",
     "text": [
      "Warning: Maximum number of iterations has been exceeded.\n",
      "         Current function value: 0.045512\n",
      "         Iterations: 35\n",
      "                           Logit Regression Results                           \n",
      "==============================================================================\n",
      "Dep. Variable:             is_default   No. Observations:                15000\n",
      "Model:                          Logit   Df Residuals:                    14997\n",
      "Method:                           MLE   Df Model:                            2\n",
      "Date:                Fri, 19 May 2023   Pseudo R-squ.:                  0.7068\n",
      "Time:                        04:23:12   Log-Likelihood:                -682.68\n",
      "converged:                      False   LL-Null:                       -2328.5\n",
      "Covariance Type:            nonrobust   LLR p-value:                     0.000\n",
      "===========================================================================================\n",
      "                              coef    std err          z      P>|z|      [0.025      0.975]\n",
      "-------------------------------------------------------------------------------------------\n",
      "const                    3.662e+04   1640.488     22.324      0.000    3.34e+04    3.98e+04\n",
      "customer_monthly_income -1.787e-05   5.13e-05     -0.348      0.728      -0.000    8.27e-05\n",
      "customer_zip_code          -3.6613      0.164    -22.325      0.000      -3.983      -3.340\n",
      "===========================================================================================\n",
      "\n",
      "Possibly complete quasi-separation: A fraction 0.69 of observations can be\n",
      "perfectly predicted. This might indicate that there is complete\n",
      "quasi-separation. In this case some parameters will not be identified.\n"
     ]
    },
    {
     "name": "stderr",
     "output_type": "stream",
     "text": [
      "/Users/prataprc94/opt/anaconda3/lib/python3.8/site-packages/statsmodels/base/model.py:604: ConvergenceWarning: Maximum Likelihood optimization failed to converge. Check mle_retvals\n",
      "  warnings.warn(\"Maximum Likelihood optimization failed to \"\n"
     ]
    }
   ],
   "source": [
    "X = sm.add_constant(df[['customer_monthly_income','customer_zip_code']])\n",
    "y = df['is_default']\n",
    "model = sm.Logit(y, X).fit()\n",
    "print(model.summary())"
   ]
  },
  {
   "cell_type": "markdown",
   "id": "d50fd834",
   "metadata": {},
   "source": [
    "- p-value for customer_monthly_income is greater than the significance level of 0.05, which means customer_monthly_income does not affect default rate\n",
    "\n",
    "- p-value for customer_zip_code is less than the significance level of 0.05, which means customer_zip_code significantly affect default rate\n",
    "\n",
    "- However, warning message Maximum Likelihood optimization failed to converge suggests that the model may not have converged thus the results should be interpreted with caution\n",
    "\n",
    "- The warning Possibly complete quasi-separation indicates that there may be perfect prediction or separation of the data points (in this case customer_zip_code perfectly affects default rate), so the results should be interpreted with caution"
   ]
  },
  {
   "cell_type": "markdown",
   "id": "99e9c78f",
   "metadata": {},
   "source": [
    "### Evaluate loan channel against Default Rate\n",
    "\n",
    "The operations team came up with these additional hypotheses:\n",
    "\n",
    "Null hypothesis: loan channel has no impact on the loan approval rate\n",
    "\n",
    "Alternative hypothesis: loan channel impacts the loan approval rate\n",
    "\n",
    "Use ANOVA test to determine if there is a significant difference between loan default rates across different loan channels. If the test indicates that there is a significant difference, you can use post-hoc tests to determine which specific loan channels have different loan default rates."
   ]
  },
  {
   "cell_type": "code",
   "execution_count": 69,
   "id": "9eb1f304",
   "metadata": {},
   "outputs": [],
   "source": [
    "import statsmodels.formula.api as smf"
   ]
  },
  {
   "cell_type": "code",
   "execution_count": 70,
   "id": "c86d5dd1",
   "metadata": {},
   "outputs": [
    {
     "data": {
      "text/plain": [
       "array([0, 1])"
      ]
     },
     "execution_count": 70,
     "metadata": {},
     "output_type": "execute_result"
    }
   ],
   "source": [
    "df['is_default'] = df['is_default'].astype(int)\n",
    "df['is_default'].unique()"
   ]
  },
  {
   "cell_type": "markdown",
   "id": "1baedf48",
   "metadata": {},
   "source": [
    "Perform the ANOVA test. Specify is_default as the dependent variable, and loan_channel is the categorical independent variable.\n",
    "\n",
    "Calculate ANOVA table for the regression model using the anova_lm function from statsmodels.stats.anova. Use Type II ANOVA to determine the significance of each independent variable in the presence of other independent variables."
   ]
  },
  {
   "cell_type": "code",
   "execution_count": 71,
   "id": "e6215985",
   "metadata": {},
   "outputs": [
    {
     "name": "stdout",
     "output_type": "stream",
     "text": [
      "                     sum_sq       df           F         PR(>F)\n",
      "C(loan_channel)   29.296879      4.0  223.138301  2.286606e-186\n",
      "Residual         492.191054  14995.0         NaN            NaN\n"
     ]
    }
   ],
   "source": [
    "model = smf.ols(\"is_default ~ C(loan_channel)\", data = df)\n",
    "results = model.fit()\n",
    "aov_table = sm.stats.anova_lm(results, typ = 2)\n",
    "print(aov_table)"
   ]
  },
  {
   "cell_type": "markdown",
   "id": "2978b986",
   "metadata": {},
   "source": [
    "> The p-value is less than significance level of 0.05, means there is a statistically significant difference between the groups of loan_channel."
   ]
  },
  {
   "cell_type": "markdown",
   "id": "5f85e050",
   "metadata": {},
   "source": [
    "Perform post-hoc tests to determine which loan channel has different impact on default rate. Use Tukey's Honestly Significant Difference (HSD) test on the data. Use is_default as the response variable and loan_channel column as the predictor variable."
   ]
  },
  {
   "cell_type": "code",
   "execution_count": 72,
   "id": "33cdded4",
   "metadata": {},
   "outputs": [
    {
     "name": "stdout",
     "output_type": "stream",
     "text": [
      "       Multiple Comparison of Means - Tukey HSD, FWER=0.05        \n",
      "==================================================================\n",
      "    group1         group2     meandiff p-adj  lower  upper  reject\n",
      "------------------------------------------------------------------\n",
      "     AFFILIATE          AGENT  -0.0034   0.9 -0.0161 0.0093  False\n",
      "     AFFILIATE DIRECT_SELLING   0.0004   0.9 -0.0125 0.0133  False\n",
      "     AFFILIATE     MOBILE_APP  -0.0036   0.9 -0.0165 0.0092  False\n",
      "     AFFILIATE            WEB   0.1059 0.001  0.0934 0.1185   True\n",
      "         AGENT DIRECT_SELLING   0.0038   0.9 -0.0091 0.0167  False\n",
      "         AGENT     MOBILE_APP  -0.0002   0.9 -0.0131 0.0126  False\n",
      "         AGENT            WEB   0.1093 0.001  0.0968 0.1218   True\n",
      "DIRECT_SELLING     MOBILE_APP   -0.004   0.9  -0.017  0.009  False\n",
      "DIRECT_SELLING            WEB   0.1055 0.001  0.0928 0.1182   True\n",
      "    MOBILE_APP            WEB   0.1095 0.001  0.0969 0.1222   True\n",
      "------------------------------------------------------------------\n"
     ]
    }
   ],
   "source": [
    "mc = sm.stats.multicomp.MultiComparison(df['is_default'], df['loan_channel'])\n",
    "mc_results = mc.tukeyhsd()\n",
    "print(mc_results.summary())"
   ]
  },
  {
   "cell_type": "markdown",
   "id": "457c252a",
   "metadata": {},
   "source": [
    "Examine the post-hoc test. If the reject column is true for a pair of loan channels, then you can reject the null hypothesis and conclude that there is a significant difference between the default rates of the loan channels.\n",
    "\n",
    "In the post-hoc table, the reject column is true for the pairs of loan channels (AFFILIATE, WEB), (AGENT, WEB), (DIRECT_SELLING, WEB), and (MOBILE_APP, WEB). This suggests that the default rate for loans obtained through the WEB channel is significantly different from the default rates for loans obtained through the other channels.\n",
    "\n",
    "#### Hence we can reject the null hypothesis, since WEB channel contributes to loan default rate"
   ]
  },
  {
   "cell_type": "code",
   "execution_count": null,
   "id": "55dd30e6",
   "metadata": {},
   "outputs": [],
   "source": []
  }
 ],
 "metadata": {
  "kernelspec": {
   "display_name": "Python 3",
   "language": "python",
   "name": "python3"
  },
  "language_info": {
   "codemirror_mode": {
    "name": "ipython",
    "version": 3
   },
   "file_extension": ".py",
   "mimetype": "text/x-python",
   "name": "python",
   "nbconvert_exporter": "python",
   "pygments_lexer": "ipython3",
   "version": "3.8.8"
  }
 },
 "nbformat": 4,
 "nbformat_minor": 5
}
